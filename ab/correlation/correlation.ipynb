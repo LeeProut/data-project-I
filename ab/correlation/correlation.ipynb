{
 "cells": [
  {
   "cell_type": "code",
   "execution_count": 1,
   "metadata": {},
   "outputs": [],
   "source": [
    "# Dependencies and Setup\n",
    "import matplotlib.pyplot as plt\n",
    "import pandas as pd\n",
    "import numpy as np\n",
    "import requests\n",
    "import json\n",
    "import time\n",
    "import scipy.stats as st\n",
    "from scipy.stats import linregress"
   ]
  },
  {
   "cell_type": "code",
   "execution_count": 2,
   "metadata": {},
   "outputs": [
    {
     "data": {
      "text/html": [
       "<div>\n",
       "<style scoped>\n",
       "    .dataframe tbody tr th:only-of-type {\n",
       "        vertical-align: middle;\n",
       "    }\n",
       "\n",
       "    .dataframe tbody tr th {\n",
       "        vertical-align: top;\n",
       "    }\n",
       "\n",
       "    .dataframe thead th {\n",
       "        text-align: right;\n",
       "    }\n",
       "</style>\n",
       "<table border=\"1\" class=\"dataframe\">\n",
       "  <thead>\n",
       "    <tr style=\"text-align: right;\">\n",
       "      <th></th>\n",
       "      <th>AcresBurned</th>\n",
       "      <th>AirTankers</th>\n",
       "      <th>ArchiveYear</th>\n",
       "      <th>Counties</th>\n",
       "      <th>CountyIds</th>\n",
       "      <th>CrewsInvolved</th>\n",
       "      <th>Dozers</th>\n",
       "      <th>Engines</th>\n",
       "      <th>Extinguished</th>\n",
       "      <th>Days Burned</th>\n",
       "      <th>...</th>\n",
       "      <th>Name</th>\n",
       "      <th>PersonnelInvolved</th>\n",
       "      <th>Started</th>\n",
       "      <th>StructuresDamaged</th>\n",
       "      <th>StructuresDestroyed</th>\n",
       "      <th>StructuresEvacuated</th>\n",
       "      <th>StructuresThreatened</th>\n",
       "      <th>UniqueId</th>\n",
       "      <th>WaterTenders</th>\n",
       "      <th>Started Month</th>\n",
       "    </tr>\n",
       "  </thead>\n",
       "  <tbody>\n",
       "    <tr>\n",
       "      <th>0</th>\n",
       "      <td>24251.0</td>\n",
       "      <td>NaN</td>\n",
       "      <td>2013</td>\n",
       "      <td>Ventura</td>\n",
       "      <td>56</td>\n",
       "      <td>47.0</td>\n",
       "      <td>8.0</td>\n",
       "      <td>117.0</td>\n",
       "      <td>5/11/13</td>\n",
       "      <td>9</td>\n",
       "      <td>...</td>\n",
       "      <td>Springs Fire</td>\n",
       "      <td>2167.0</td>\n",
       "      <td>5/2/13</td>\n",
       "      <td>6.0</td>\n",
       "      <td>10.0</td>\n",
       "      <td>NaN</td>\n",
       "      <td>NaN</td>\n",
       "      <td>46731fb8-3350-4920-bdf7-910ac0eb715c</td>\n",
       "      <td>11.0</td>\n",
       "      <td>5</td>\n",
       "    </tr>\n",
       "    <tr>\n",
       "      <th>1</th>\n",
       "      <td>20292.0</td>\n",
       "      <td>NaN</td>\n",
       "      <td>2013</td>\n",
       "      <td>Riverside</td>\n",
       "      <td>33</td>\n",
       "      <td>63.0</td>\n",
       "      <td>20.0</td>\n",
       "      <td>201.0</td>\n",
       "      <td>8/12/13</td>\n",
       "      <td>5</td>\n",
       "      <td>...</td>\n",
       "      <td>Silver Fire</td>\n",
       "      <td>2106.0</td>\n",
       "      <td>8/7/13</td>\n",
       "      <td>8.0</td>\n",
       "      <td>40.0</td>\n",
       "      <td>NaN</td>\n",
       "      <td>NaN</td>\n",
       "      <td>c400203b-a7fd-4bd8-803a-f3c74bc32a2b</td>\n",
       "      <td>20.0</td>\n",
       "      <td>8</td>\n",
       "    </tr>\n",
       "    <tr>\n",
       "      <th>2</th>\n",
       "      <td>11429.0</td>\n",
       "      <td>NaN</td>\n",
       "      <td>2013</td>\n",
       "      <td>Tehama</td>\n",
       "      <td>52</td>\n",
       "      <td>30.0</td>\n",
       "      <td>3.0</td>\n",
       "      <td>36.0</td>\n",
       "      <td>8/29/13</td>\n",
       "      <td>6</td>\n",
       "      <td>...</td>\n",
       "      <td>Deer Fire</td>\n",
       "      <td>898.0</td>\n",
       "      <td>8/23/13</td>\n",
       "      <td>NaN</td>\n",
       "      <td>NaN</td>\n",
       "      <td>NaN</td>\n",
       "      <td>NaN</td>\n",
       "      <td>956dbcf6-db40-4b61-b235-4ede14738f1e</td>\n",
       "      <td>8.0</td>\n",
       "      <td>8</td>\n",
       "    </tr>\n",
       "    <tr>\n",
       "      <th>3</th>\n",
       "      <td>8073.0</td>\n",
       "      <td>NaN</td>\n",
       "      <td>2013</td>\n",
       "      <td>Shasta</td>\n",
       "      <td>45</td>\n",
       "      <td>12.0</td>\n",
       "      <td>3.0</td>\n",
       "      <td>30.0</td>\n",
       "      <td>9/15/13</td>\n",
       "      <td>6</td>\n",
       "      <td>...</td>\n",
       "      <td>Clover Fire</td>\n",
       "      <td>342.0</td>\n",
       "      <td>9/9/13</td>\n",
       "      <td>10.0</td>\n",
       "      <td>201.0</td>\n",
       "      <td>NaN</td>\n",
       "      <td>NaN</td>\n",
       "      <td>92af9783-eda9-4186-afe9-447f61a92636</td>\n",
       "      <td>NaN</td>\n",
       "      <td>9</td>\n",
       "    </tr>\n",
       "    <tr>\n",
       "      <th>4</th>\n",
       "      <td>7055.0</td>\n",
       "      <td>NaN</td>\n",
       "      <td>2013</td>\n",
       "      <td>San Diego</td>\n",
       "      <td>37</td>\n",
       "      <td>56.0</td>\n",
       "      <td>24.0</td>\n",
       "      <td>183.0</td>\n",
       "      <td>7/15/13</td>\n",
       "      <td>9</td>\n",
       "      <td>...</td>\n",
       "      <td>Chariot Fire</td>\n",
       "      <td>2147.0</td>\n",
       "      <td>7/6/13</td>\n",
       "      <td>9.0</td>\n",
       "      <td>149.0</td>\n",
       "      <td>NaN</td>\n",
       "      <td>NaN</td>\n",
       "      <td>ee19b2ec-a96a-4738-994e-fb3ea016e053</td>\n",
       "      <td>24.0</td>\n",
       "      <td>7</td>\n",
       "    </tr>\n",
       "  </tbody>\n",
       "</table>\n",
       "<p>5 rows × 28 columns</p>\n",
       "</div>"
      ],
      "text/plain": [
       "   AcresBurned  AirTankers  ArchiveYear   Counties CountyIds  CrewsInvolved  \\\n",
       "0      24251.0         NaN         2013    Ventura        56           47.0   \n",
       "1      20292.0         NaN         2013  Riverside        33           63.0   \n",
       "2      11429.0         NaN         2013     Tehama        52           30.0   \n",
       "3       8073.0         NaN         2013     Shasta        45           12.0   \n",
       "4       7055.0         NaN         2013  San Diego        37           56.0   \n",
       "\n",
       "   Dozers  Engines Extinguished  Days Burned  ...          Name  \\\n",
       "0     8.0    117.0      5/11/13            9  ...  Springs Fire   \n",
       "1    20.0    201.0      8/12/13            5  ...   Silver Fire   \n",
       "2     3.0     36.0      8/29/13            6  ...     Deer Fire   \n",
       "3     3.0     30.0      9/15/13            6  ...   Clover Fire   \n",
       "4    24.0    183.0      7/15/13            9  ...  Chariot Fire   \n",
       "\n",
       "   PersonnelInvolved  Started  StructuresDamaged  StructuresDestroyed  \\\n",
       "0             2167.0   5/2/13                6.0                 10.0   \n",
       "1             2106.0   8/7/13                8.0                 40.0   \n",
       "2              898.0  8/23/13                NaN                  NaN   \n",
       "3              342.0   9/9/13               10.0                201.0   \n",
       "4             2147.0   7/6/13                9.0                149.0   \n",
       "\n",
       "   StructuresEvacuated  StructuresThreatened  \\\n",
       "0                  NaN                   NaN   \n",
       "1                  NaN                   NaN   \n",
       "2                  NaN                   NaN   \n",
       "3                  NaN                   NaN   \n",
       "4                  NaN                   NaN   \n",
       "\n",
       "                               UniqueId WaterTenders  Started Month  \n",
       "0  46731fb8-3350-4920-bdf7-910ac0eb715c         11.0              5  \n",
       "1  c400203b-a7fd-4bd8-803a-f3c74bc32a2b         20.0              8  \n",
       "2  956dbcf6-db40-4b61-b235-4ede14738f1e          8.0              8  \n",
       "3  92af9783-eda9-4186-afe9-447f61a92636          NaN              9  \n",
       "4  ee19b2ec-a96a-4738-994e-fb3ea016e053         24.0              7  \n",
       "\n",
       "[5 rows x 28 columns]"
      ]
     },
     "execution_count": 2,
     "metadata": {},
     "output_type": "execute_result"
    }
   ],
   "source": [
    "# Focus on major fire incident: Read in csv file\n",
    "major_fire_data = '../output_data/major_fire.csv'\n",
    "major_fire_df = pd.read_csv(major_fire_data)\n",
    "major_fire_df.head()"
   ]
  },
  {
   "cell_type": "code",
   "execution_count": 3,
   "metadata": {},
   "outputs": [
    {
     "data": {
      "text/html": [
       "<div>\n",
       "<style scoped>\n",
       "    .dataframe tbody tr th:only-of-type {\n",
       "        vertical-align: middle;\n",
       "    }\n",
       "\n",
       "    .dataframe tbody tr th {\n",
       "        vertical-align: top;\n",
       "    }\n",
       "\n",
       "    .dataframe thead th {\n",
       "        text-align: right;\n",
       "    }\n",
       "</style>\n",
       "<table border=\"1\" class=\"dataframe\">\n",
       "  <thead>\n",
       "    <tr style=\"text-align: right;\">\n",
       "      <th></th>\n",
       "      <th>AcresBurned</th>\n",
       "      <th>AirTankers</th>\n",
       "      <th>ArchiveYear</th>\n",
       "      <th>Counties</th>\n",
       "      <th>CountyIds</th>\n",
       "      <th>CrewsInvolved</th>\n",
       "      <th>Dozers</th>\n",
       "      <th>Engines</th>\n",
       "      <th>Extinguished</th>\n",
       "      <th>Days Burned</th>\n",
       "      <th>...</th>\n",
       "      <th>Name</th>\n",
       "      <th>PersonnelInvolved</th>\n",
       "      <th>Started</th>\n",
       "      <th>StructuresDamaged</th>\n",
       "      <th>StructuresDestroyed</th>\n",
       "      <th>StructuresEvacuated</th>\n",
       "      <th>StructuresThreatened</th>\n",
       "      <th>UniqueId</th>\n",
       "      <th>WaterTenders</th>\n",
       "      <th>Started Month</th>\n",
       "    </tr>\n",
       "  </thead>\n",
       "  <tbody>\n",
       "    <tr>\n",
       "      <th>0</th>\n",
       "      <td>24251.0</td>\n",
       "      <td>NaN</td>\n",
       "      <td>2013</td>\n",
       "      <td>Ventura</td>\n",
       "      <td>56</td>\n",
       "      <td>47.0</td>\n",
       "      <td>8.0</td>\n",
       "      <td>117.0</td>\n",
       "      <td>5/11/13</td>\n",
       "      <td>9</td>\n",
       "      <td>...</td>\n",
       "      <td>Springs Fire</td>\n",
       "      <td>2167.0</td>\n",
       "      <td>5/2/13</td>\n",
       "      <td>6.0</td>\n",
       "      <td>10.0</td>\n",
       "      <td>NaN</td>\n",
       "      <td>NaN</td>\n",
       "      <td>46731fb8-3350-4920-bdf7-910ac0eb715c</td>\n",
       "      <td>11.0</td>\n",
       "      <td>5</td>\n",
       "    </tr>\n",
       "    <tr>\n",
       "      <th>1</th>\n",
       "      <td>20292.0</td>\n",
       "      <td>NaN</td>\n",
       "      <td>2013</td>\n",
       "      <td>Riverside</td>\n",
       "      <td>33</td>\n",
       "      <td>63.0</td>\n",
       "      <td>20.0</td>\n",
       "      <td>201.0</td>\n",
       "      <td>8/12/13</td>\n",
       "      <td>5</td>\n",
       "      <td>...</td>\n",
       "      <td>Silver Fire</td>\n",
       "      <td>2106.0</td>\n",
       "      <td>8/7/13</td>\n",
       "      <td>8.0</td>\n",
       "      <td>40.0</td>\n",
       "      <td>NaN</td>\n",
       "      <td>NaN</td>\n",
       "      <td>c400203b-a7fd-4bd8-803a-f3c74bc32a2b</td>\n",
       "      <td>20.0</td>\n",
       "      <td>8</td>\n",
       "    </tr>\n",
       "    <tr>\n",
       "      <th>2</th>\n",
       "      <td>11429.0</td>\n",
       "      <td>NaN</td>\n",
       "      <td>2013</td>\n",
       "      <td>Tehama</td>\n",
       "      <td>52</td>\n",
       "      <td>30.0</td>\n",
       "      <td>3.0</td>\n",
       "      <td>36.0</td>\n",
       "      <td>8/29/13</td>\n",
       "      <td>6</td>\n",
       "      <td>...</td>\n",
       "      <td>Deer Fire</td>\n",
       "      <td>898.0</td>\n",
       "      <td>8/23/13</td>\n",
       "      <td>NaN</td>\n",
       "      <td>NaN</td>\n",
       "      <td>NaN</td>\n",
       "      <td>NaN</td>\n",
       "      <td>956dbcf6-db40-4b61-b235-4ede14738f1e</td>\n",
       "      <td>8.0</td>\n",
       "      <td>8</td>\n",
       "    </tr>\n",
       "    <tr>\n",
       "      <th>3</th>\n",
       "      <td>8073.0</td>\n",
       "      <td>NaN</td>\n",
       "      <td>2013</td>\n",
       "      <td>Shasta</td>\n",
       "      <td>45</td>\n",
       "      <td>12.0</td>\n",
       "      <td>3.0</td>\n",
       "      <td>30.0</td>\n",
       "      <td>9/15/13</td>\n",
       "      <td>6</td>\n",
       "      <td>...</td>\n",
       "      <td>Clover Fire</td>\n",
       "      <td>342.0</td>\n",
       "      <td>9/9/13</td>\n",
       "      <td>10.0</td>\n",
       "      <td>201.0</td>\n",
       "      <td>NaN</td>\n",
       "      <td>NaN</td>\n",
       "      <td>92af9783-eda9-4186-afe9-447f61a92636</td>\n",
       "      <td>NaN</td>\n",
       "      <td>9</td>\n",
       "    </tr>\n",
       "    <tr>\n",
       "      <th>4</th>\n",
       "      <td>7055.0</td>\n",
       "      <td>NaN</td>\n",
       "      <td>2013</td>\n",
       "      <td>San Diego</td>\n",
       "      <td>37</td>\n",
       "      <td>56.0</td>\n",
       "      <td>24.0</td>\n",
       "      <td>183.0</td>\n",
       "      <td>7/15/13</td>\n",
       "      <td>9</td>\n",
       "      <td>...</td>\n",
       "      <td>Chariot Fire</td>\n",
       "      <td>2147.0</td>\n",
       "      <td>7/6/13</td>\n",
       "      <td>9.0</td>\n",
       "      <td>149.0</td>\n",
       "      <td>NaN</td>\n",
       "      <td>NaN</td>\n",
       "      <td>ee19b2ec-a96a-4738-994e-fb3ea016e053</td>\n",
       "      <td>24.0</td>\n",
       "      <td>7</td>\n",
       "    </tr>\n",
       "  </tbody>\n",
       "</table>\n",
       "<p>5 rows × 28 columns</p>\n",
       "</div>"
      ],
      "text/plain": [
       "   AcresBurned  AirTankers  ArchiveYear   Counties CountyIds  CrewsInvolved  \\\n",
       "0      24251.0         NaN         2013    Ventura        56           47.0   \n",
       "1      20292.0         NaN         2013  Riverside        33           63.0   \n",
       "2      11429.0         NaN         2013     Tehama        52           30.0   \n",
       "3       8073.0         NaN         2013     Shasta        45           12.0   \n",
       "4       7055.0         NaN         2013  San Diego        37           56.0   \n",
       "\n",
       "   Dozers  Engines Extinguished  Days Burned  ...          Name  \\\n",
       "0     8.0    117.0      5/11/13            9  ...  Springs Fire   \n",
       "1    20.0    201.0      8/12/13            5  ...   Silver Fire   \n",
       "2     3.0     36.0      8/29/13            6  ...     Deer Fire   \n",
       "3     3.0     30.0      9/15/13            6  ...   Clover Fire   \n",
       "4    24.0    183.0      7/15/13            9  ...  Chariot Fire   \n",
       "\n",
       "   PersonnelInvolved  Started  StructuresDamaged  StructuresDestroyed  \\\n",
       "0             2167.0   5/2/13                6.0                 10.0   \n",
       "1             2106.0   8/7/13                8.0                 40.0   \n",
       "2              898.0  8/23/13                NaN                  NaN   \n",
       "3              342.0   9/9/13               10.0                201.0   \n",
       "4             2147.0   7/6/13                9.0                149.0   \n",
       "\n",
       "   StructuresEvacuated  StructuresThreatened  \\\n",
       "0                  NaN                   NaN   \n",
       "1                  NaN                   NaN   \n",
       "2                  NaN                   NaN   \n",
       "3                  NaN                   NaN   \n",
       "4                  NaN                   NaN   \n",
       "\n",
       "                               UniqueId WaterTenders  Started Month  \n",
       "0  46731fb8-3350-4920-bdf7-910ac0eb715c         11.0              5  \n",
       "1  c400203b-a7fd-4bd8-803a-f3c74bc32a2b         20.0              8  \n",
       "2  956dbcf6-db40-4b61-b235-4ede14738f1e          8.0              8  \n",
       "3  92af9783-eda9-4186-afe9-447f61a92636          NaN              9  \n",
       "4  ee19b2ec-a96a-4738-994e-fb3ea016e053         24.0              7  \n",
       "\n",
       "[5 rows x 28 columns]"
      ]
     },
     "execution_count": 3,
     "metadata": {},
     "output_type": "execute_result"
    }
   ],
   "source": [
    "# Duplicated data removed process\n",
    "final_burned_df = major_fire_df.drop_duplicates(subset=['UniqueId', 'Days Burned','AcresBurned'])\n",
    "final_burned_df.head()"
   ]
  },
  {
   "cell_type": "code",
   "execution_count": 4,
   "metadata": {},
   "outputs": [],
   "source": [
    "# Drop Null from column of interest (resources: personnel involved, dozers, engines, water tenders)\n",
    "per_inv_df = final_burned_df.dropna(how='any', subset=['PersonnelInvolved'])\n",
    "dozers_df = final_burned_df.dropna(how='any', subset=['Dozers'])\n",
    "eng_df = final_burned_df.dropna(how='any', subset=['Engines'])\n",
    "water_df = final_burned_df.dropna(how='any', subset=['WaterTenders'])"
   ]
  },
  {
   "cell_type": "markdown",
   "metadata": {},
   "source": [
    "### Correlation between Final Size Burned (acres) vs Time Burned (days)"
   ]
  },
  {
   "cell_type": "markdown",
   "metadata": {},
   "source": [
    "To find out that size burned area increases when time burned increases"
   ]
  },
  {
   "cell_type": "code",
   "execution_count": 5,
   "metadata": {},
   "outputs": [
    {
     "name": "stdout",
     "output_type": "stream",
     "text": [
      "Area burned outliers based on engine involved\n",
      "Final burned area (arces) below -3123.25 could be outliers.\n",
      "Final burned area (arces) above 5418.75 could be outliers.\n",
      "Average final burned area (arces) is: 7917.84\n",
      "Number of outliers is: 57\n"
     ]
    }
   ],
   "source": [
    "# Calculate the IQR and quantitatively determine if there are any potential outliers.\n",
    "area = final_burned_df.loc[final_burned_df['Days Burned']>=0, 'AcresBurned']\n",
    "days = final_burned_df.loc[final_burned_df['Days Burned']>=0, 'Days Burned']\n",
    "\n",
    "# Calculate the IQR and quantitatively\n",
    "area_quartiles = area.quantile([0.25,0.5,0.75])\n",
    "area_lowerq = area_quartiles[0.25]\n",
    "area_upperq = area_quartiles[0.75]\n",
    "area_mean = area.mean()\n",
    "area_iqr = area_upperq-area_lowerq    \n",
    "area_lower_bound = area_lowerq - (1.5*area_iqr)\n",
    "area_upper_bound = area_upperq + (1.5*area_iqr)\n",
    "\n",
    "# Determine outliers using upper and lower bounds\n",
    "area_outliers = area.loc[(area < area_lower_bound) | (area > area_upper_bound)]\n",
    "\n",
    "# Print out the result\n",
    "print(f'Area burned outliers based on engine involved')\n",
    "print(f\"Final burned area (arces) below {round(area_lower_bound,2)} could be outliers.\")\n",
    "print(f\"Final burned area (arces) above {round(area_upper_bound,2)} could be outliers.\")\n",
    "print(f\"Average final burned area (arces) is: {round(area_mean,2)}\")\n",
    "print(f\"Number of outliers is: {area_outliers.count()}\")"
   ]
  },
  {
   "cell_type": "code",
   "execution_count": 6,
   "metadata": {},
   "outputs": [
    {
     "name": "stdout",
     "output_type": "stream",
     "text": [
      "The correlation between burned area (acres) and burned days is -0.00109\n",
      "The r-squared is: 1.186e-06\n"
     ]
    },
    {
     "data": {
      "image/png": "[encoded data removed]",
      "text/plain": [
       "<Figure size 432x288 with 1 Axes>"
      ]
     },
     "metadata": {
      "needs_background": "light"
     },
     "output_type": "display_data"
    }
   ],
   "source": [
    "# Define x,y values\n",
    "area_x_values = days.drop(area_outliers.index)\n",
    "area_y_values = area.drop(area_outliers.index)\n",
    "\n",
    "# Calculate the correlation\n",
    "area_correlation = round(st.pearsonr(area_x_values, area_y_values)[0],5)\n",
    "print(f\"The correlation between burned area (acres) and burned days is {area_correlation}\")\n",
    "\n",
    "# Calculate linear regression values\n",
    "(area_slope, area_intercept, area_rvalue, area_pvalue, area_stderr) = st.linregress(area_x_values, area_y_values)\n",
    "\n",
    "# Calculate r-squared\n",
    "area_r_squared = round(area_rvalue**2,9)\n",
    "print(f\"The r-squared is: {area_r_squared}\")\n",
    "\n",
    "# y = mx + b\n",
    "area_regress_values = area_x_values * area_slope + area_intercept\n",
    "area_line_eq = \"y = \" + str(round(area_slope,2)) + \"x + \" + str(round(area_intercept,2))\n",
    "\n",
    "# Gernerate scatter chart with liner regression line, equation of line, r-squared value\n",
    "plt.scatter(area_x_values, area_y_values, edgecolors='black')\n",
    "plt.plot(area_x_values,area_regress_values, color='r', alpha=0.7)\n",
    "\n",
    "# Plot the Annotation in the graph \n",
    "plt.annotate(area_line_eq,(225,3000), fontsize=11, color=\"red\")\n",
    "plt.annotate(f'r-squared = {area_r_squared}', (225,2600), fontsize=11, color=\"red\")\n",
    "\n",
    "# Define title and x/y labels\n",
    "plt.title('Acres Burned vs Burned Time', fontweight='bold')\n",
    "plt.xlabel('Burned Time (Days)', fontweight='bold')\n",
    "plt.ylabel('Burned Area (Acres)', fontweight='bold')\n",
    "\n",
    "# Save box plot graph to Images folder\n",
    "plt.savefig('../Images/day_area.png')\n",
    "\n",
    "# Present the box plot chart\n",
    "plt.show()\n",
    "\n",
    "# To close pyplot\n",
    "plt.close()"
   ]
  },
  {
   "cell_type": "markdown",
   "metadata": {},
   "source": [
    "### Correlation between Resources vs Burned Time"
   ]
  },
  {
   "cell_type": "markdown",
   "metadata": {},
   "source": [
    "To find out how many resources required to shorten burned time"
   ]
  },
  {
   "cell_type": "markdown",
   "metadata": {},
   "source": [
    "#### Resources: Personnel Involved"
   ]
  },
  {
   "cell_type": "code",
   "execution_count": 17,
   "metadata": {},
   "outputs": [
    {
     "name": "stdout",
     "output_type": "stream",
     "text": [
      "Personnel Involved outliers based on Burned Time\n",
      "Burned Time below -27.0 could be outliers.\n",
      "Burned Time above 53.0 could be outliers.\n",
      "Average Burned Time is: 45.33\n",
      "Number of outliers is: 140\n"
     ]
    }
   ],
   "source": [
    "#Discover wheather personnel involved has relation to burned time\n",
    "per_inv_t = per_inv_df.loc[per_inv_df['Days Burned']>=0, 'PersonnelInvolved']\n",
    "pt_days = per_inv_df.loc[per_inv_df['Days Burned']>=0, 'Days Burned']\n",
    "\n",
    "# Calculate the IQR and quantitatively\n",
    "pt_quartiles = pt_days.quantile([0.25,0.5,0.75])\n",
    "pt_lowerq = pt_quartiles[0.25]\n",
    "pt_upperq = pt_quartiles[0.75]\n",
    "pt_mean = pt_days.mean()\n",
    "pt_iqr = pt_upperq-pt_lowerq    \n",
    "pt_lower_bound = pt_lowerq - (1.5*pt_iqr)\n",
    "pt_upper_bound = pt_upperq + (1.5*pt_iqr)\n",
    "\n",
    "# Determine outliers using upper and lower bounds\n",
    "pt_outliers = per_inv_t.loc[(per_inv_t < pt_lower_bound) | (per_inv_t > pt_upper_bound)]\n",
    "\n",
    "# Print out the result\n",
    "print(f'Personnel Involved outliers based on Burned Time')\n",
    "print(f\"Burned Time below {round(pt_lower_bound,2)} could be outliers.\")\n",
    "print(f\"Burned Time above {round(pt_upper_bound,2)} could be outliers.\")\n",
    "print(f\"Average Burned Time is: {round(pt_mean,2)}\")\n",
    "print(f\"Number of outliers is: {pt_outliers.count()}\")"
   ]
  },
  {
   "cell_type": "code",
   "execution_count": 21,
   "metadata": {},
   "outputs": [
    {
     "name": "stdout",
     "output_type": "stream",
     "text": [
      "The correlation between burned time (days) and personnel involved is -0.21\n",
      "The r-squared is: 0.04\n"
     ]
    },
    {
     "data": {
      "image/png": "[encoded data removed]",
      "text/plain": [
       "<Figure size 432x288 with 1 Axes>"
      ]
     },
     "metadata": {
      "needs_background": "light"
     },
     "output_type": "display_data"
    }
   ],
   "source": [
    "# Define x, y values\n",
    "pt_x_values = pt_days.drop(pt_outliers.index)\n",
    "pt_y_values = per_inv_t.drop(pt_outliers.index)\n",
    "\n",
    "# Calculate the correlation\n",
    "pt_correlation = round(st.pearsonr(pt_x_values, pt_y_values)[0],2)\n",
    "print(f\"The correlation between burned time (days) and personnel involved is {pt_correlation}\")\n",
    "\n",
    "# Calculate linear regression values\n",
    "(pt_slope, pt_intercept, pt_rvalue, pt_pvalue, pt_stderr) = st.linregress(pt_x_values, pt_y_values) \n",
    "                                                                                                   \n",
    "# Calculate r-squared\n",
    "pt_r_squared = round(pt_rvalue**2,2)\n",
    "print(f\"The r-squared is: {pt_r_squared}\")\n",
    "\n",
    "# y = mx + b\n",
    "pt_regress_values = pt_x_values * pt_slope + pt_intercept\n",
    "pt_line_eq = \"y = \" + str(round(pt_slope,5)) + \"x + \" + str(round(pt_intercept,2))\n",
    "\n",
    "# Gernerate scatter chart with liner regression line, equation of line, r-squared value\n",
    "plt.scatter(pt_x_values, pt_y_values, edgecolors='black')\n",
    "plt.plot(pt_x_values,pt_regress_values, color='r', alpha=0.7)\n",
    "\n",
    "# Plot the Annotation in the graph \n",
    "plt.annotate(pt_line_eq,(50,33), fontsize=11, color=\"red\")\n",
    "plt.annotate(f'r-squared = {pt_r_squared}', (50,30), fontsize=11, color=\"red\")\n",
    "\n",
    "# Define title and x/y labels\n",
    "plt.title('Burned Time vs Personnel Involved', fontweight='bold')\n",
    "plt.xlabel('Burned Time (Days)', fontweight='bold')\n",
    "plt.ylabel('Personnel Involved', fontweight='bold')\n",
    "\n",
    "# Save box plot graph to Images folder\n",
    "plt.savefig('../Images/time_perinv.png')\n",
    "\n",
    "# Present the box plot chart\n",
    "plt.show()\n",
    "\n",
    "# To close pyplot\n",
    "plt.close()"
   ]
  },
  {
   "cell_type": "markdown",
   "metadata": {},
   "source": [
    "#### Resources: Dozers"
   ]
  },
  {
   "cell_type": "code",
   "execution_count": 22,
   "metadata": {},
   "outputs": [
    {
     "name": "stdout",
     "output_type": "stream",
     "text": [
      "Dozers outliers based on Burned Time\n",
      "Burned Time below -19.38 could be outliers.\n",
      "Burned Time above 37.62 could be outliers.\n",
      "Average Burned Time is: 42.57\n",
      "Number of outliers is: 2\n"
     ]
    }
   ],
   "source": [
    "#Discover wheather dozers has relation to burned time\n",
    "dozers_t = dozers_df.loc[dozers_df['Days Burned']>=0, 'Dozers']\n",
    "dt_days = dozers_df.loc[dozers_df['Days Burned']>=0, 'Days Burned']\n",
    "\n",
    "# Calculate the IQR and quantitatively\n",
    "dt_quartiles = dt_days.quantile([0.25,0.5,0.75])\n",
    "dt_lowerq = dt_quartiles[0.25]\n",
    "dt_upperq = dt_quartiles[0.75]\n",
    "dt_mean = dt_days.mean()\n",
    "dt_iqr = dt_upperq-dt_lowerq    \n",
    "dt_lower_bound = dt_lowerq - (1.5*dt_iqr)\n",
    "dt_upper_bound = dt_upperq + (1.5*dt_iqr)\n",
    "\n",
    "# Determine outliers using upper and lower bounds\n",
    "dt_outliers = dozers_t.loc[(dozers_t < dt_lower_bound) | (dozers_t > dt_upper_bound)]\n",
    "\n",
    "# Print out the result\n",
    "print(f'Dozers outliers based on Burned Time')\n",
    "print(f\"Burned Time below {round(dt_lower_bound,2)} could be outliers.\")\n",
    "print(f\"Burned Time above {round(dt_upper_bound,2)} could be outliers.\")\n",
    "print(f\"Average Burned Time is: {round(dt_mean,2)}\")\n",
    "print(f\"Number of outliers is: {dt_outliers.count()}\")"
   ]
  },
  {
   "cell_type": "code",
   "execution_count": 27,
   "metadata": {},
   "outputs": [
    {
     "name": "stdout",
     "output_type": "stream",
     "text": [
      "The correlation between burned time (days) and dozers is -0.14\n",
      "The r-squared is: 0.02\n"
     ]
    },
    {
     "data": {
      "image/png": "[encoded data removed]",
      "text/plain": [
       "<Figure size 432x288 with 1 Axes>"
      ]
     },
     "metadata": {
      "needs_background": "light"
     },
     "output_type": "display_data"
    }
   ],
   "source": [
    "# Define x, y values\n",
    "dt_x_values = dt_days.drop(dt_outliers.index)\n",
    "dt_y_values = dozers_t.drop(dt_outliers.index)\n",
    "\n",
    "# Calculate the correlation\n",
    "dt_correlation = round(st.pearsonr(dt_x_values, dt_y_values)[0],2)\n",
    "print(f\"The correlation between burned time (days) and dozers is {dt_correlation}\")\n",
    "\n",
    "# Calculate linear regression values\n",
    "(dt_slope, dt_intercept, dt_rvalue, dt_pvalue, dt_stderr) = st.linregress(dt_x_values, dt_y_values) \n",
    "                                                                                                   \n",
    "# Calculate r-squared\n",
    "dt_r_squared = round(dt_rvalue**2,2)\n",
    "print(f\"The r-squared is: {dt_r_squared}\")\n",
    "\n",
    "# y = mx + b\n",
    "dt_regress_values = dt_x_values * dt_slope + dt_intercept\n",
    "dt_line_eq = \"y = \" + str(round(dt_slope,5)) + \"x + \" + str(round(dt_intercept,2))\n",
    "\n",
    "# Gernerate scatter chart with liner regression line, equation of line, r-squared value\n",
    "plt.scatter(dt_x_values, dt_y_values, edgecolors='black')\n",
    "plt.plot(dt_x_values, dt_regress_values, color='r', alpha=0.7)\n",
    "\n",
    "# Plot the Annotation in the graph \n",
    "plt.annotate(dt_line_eq,(50,12), fontsize=11, color=\"red\")\n",
    "plt.annotate(f'r-squared = {dt_r_squared}', (50,10), fontsize=11, color=\"red\")\n",
    "\n",
    "# Define title and x/y labels\n",
    "plt.title('Burned Time vs Dozers', fontweight='bold')\n",
    "plt.xlabel('Burned Time (Days)', fontweight='bold')\n",
    "plt.ylabel('Dozers', fontweight='bold')\n",
    "\n",
    "# Save box plot graph to Images folder\n",
    "plt.savefig('../Images/time_dozers.png')\n",
    "\n",
    "# Present the box plot chart\n",
    "plt.show()\n",
    "\n",
    "# To close pyplot\n",
    "plt.close()"
   ]
  },
  {
   "cell_type": "markdown",
   "metadata": {},
   "source": [
    "### Correlation between Resources vs Final Size Burned"
   ]
  },
  {
   "cell_type": "markdown",
   "metadata": {},
   "source": [
    "To find out how many resources involved based on burned area"
   ]
  },
  {
   "cell_type": "markdown",
   "metadata": {},
   "source": [
    "#### Resources: Personnel Involved"
   ]
  },
  {
   "cell_type": "code",
   "execution_count": 8,
   "metadata": {},
   "outputs": [
    {
     "name": "stdout",
     "output_type": "stream",
     "text": [
      "Area burned outliers based on personel involved\n",
      "Final burned area (arces) below -4194.25 could be outliers.\n",
      "Final burned area (arces) above 7293.75 could be outliers.\n",
      "Average burned area is: 6009.79\n",
      "Number of outliers is: 24\n"
     ]
    }
   ],
   "source": [
    "#Discover wheather personnel involved has relation to area burned\n",
    "per_inv = per_inv_df['PersonnelInvolved']\n",
    "area_pi = per_inv_df['AcresBurned']\n",
    "\n",
    "# Calculate the IQR and quantitatively\n",
    "pi_quartiles = area_pi.quantile([0.25,0.5,0.75])\n",
    "pi_lowerq = pi_quartiles[0.25]\n",
    "pi_upperq = pi_quartiles[0.75]\n",
    "pi_mean = area_pi.mean()\n",
    "pi_iqr = pi_upperq-pi_lowerq    \n",
    "pi_lower_bound = pi_lowerq - (1.5*pi_iqr)\n",
    "pi_upper_bound = pi_upperq + (1.5*pi_iqr)\n",
    "\n",
    "# Determine outliers using upper and lower bounds\n",
    "pi_outliers = area_pi.loc[(area_pi < pi_lower_bound) | (area_pi > pi_upper_bound)]\n",
    "\n",
    "# Print out the result\n",
    "print(f'Area burned outliers based on personel involved')\n",
    "print(f\"Final burned area (arces) below {round(pi_lower_bound,2)} could be outliers.\")\n",
    "print(f\"Final burned area (arces) above {round(pi_upper_bound,2)} could be outliers.\")\n",
    "print(f\"Average burned area is: {round(pi_mean,2)}\")\n",
    "print(f\"Number of outliers is: {pi_outliers.count()}\")"
   ]
  },
  {
   "cell_type": "code",
   "execution_count": 9,
   "metadata": {},
   "outputs": [
    {
     "name": "stdout",
     "output_type": "stream",
     "text": [
      "The correlation between burned area (acres) and personnel involved is 0.37\n",
      "The r-squared is: 0.13\n"
     ]
    },
    {
     "data": {
      "image/png": "[encoded data removed]",
      "text/plain": [
       "<Figure size 432x288 with 1 Axes>"
      ]
     },
     "metadata": {
      "needs_background": "light"
     },
     "output_type": "display_data"
    }
   ],
   "source": [
    "# Define x, y values\n",
    "per_inv_x_values = area_pi.drop(pi_outliers.index)\n",
    "per_inv_y_values = per_inv.drop(pi_outliers.index)\n",
    "\n",
    "# Calculate the correlation\n",
    "per_inv_correlation = round(st.pearsonr(per_inv_x_values, per_inv_y_values)[0],2)\n",
    "print(f\"The correlation between burned area (acres) and personnel involved is {per_inv_correlation}\")\n",
    "\n",
    "# Calculate linear regression values\n",
    "(per_inv_slope, per_inv_intercept, per_inv_rvalue, per_inv_pvalue, per_inv_stderr) = st.linregress(per_inv_x_values, \n",
    "                                                                                                   per_inv_y_values)\n",
    "\n",
    "# Calculate r-squared\n",
    "per_inv_r_squared = round(per_inv_rvalue**2,2)\n",
    "print(f\"The r-squared is: {per_inv_r_squared}\")\n",
    "\n",
    "# y = mx + b\n",
    "per_inv_regress_values = per_inv_x_values * per_inv_slope + per_inv_intercept\n",
    "per_inv_line_eq = \"y = \" + str(round(per_inv_slope,5)) + \"x + \" + str(round(per_inv_intercept,2))\n",
    "\n",
    "# Gernerate scatter chart with liner regression line, equation of line, r-squared value\n",
    "plt.scatter(per_inv_x_values, per_inv_y_values, edgecolors='black')\n",
    "plt.plot(per_inv_x_values,per_inv_regress_values, color='r', alpha=0.7)\n",
    "\n",
    "# Plot the Annotation in the graph \n",
    "plt.annotate(per_inv_line_eq,(4300,1200), fontsize=11, color=\"red\")\n",
    "plt.annotate(f'r-squared = {per_inv_r_squared}', (4300,1070), fontsize=11, color=\"red\")\n",
    "\n",
    "# Define title and x/y labels\n",
    "plt.title('Acres Burned vs Personnel Involved', fontweight='bold')\n",
    "plt.xlabel('Burned Area (Acres)', fontweight='bold')\n",
    "plt.ylabel('Personnel Involved', fontweight='bold')\n",
    "\n",
    "# Save box plot graph to Images folder\n",
    "plt.savefig('../Images/sized_perinv.png')\n",
    "\n",
    "# Present the box plot chart\n",
    "plt.show()\n",
    "\n",
    "# To close pyplot\n",
    "plt.close()"
   ]
  },
  {
   "cell_type": "markdown",
   "metadata": {},
   "source": [
    "#### Resources: Dozers"
   ]
  },
  {
   "cell_type": "code",
   "execution_count": 10,
   "metadata": {},
   "outputs": [
    {
     "name": "stdout",
     "output_type": "stream",
     "text": [
      "Area burned outliers based on dozers involved\n",
      "Final burned area (arces) below -4327.0 could be outliers.\n",
      "Final burned area (arces) above 7507.0 could be outliers.\n",
      "Average burned area is: 8197.18\n",
      "Number of outliers is: 18\n"
     ]
    }
   ],
   "source": [
    "#Discover wheather dozers has relation to area burned\n",
    "dozers = dozers_df['Dozers']\n",
    "area_dz = dozers_df['AcresBurned']\n",
    "\n",
    "# Calculate the IQR and quantitatively\n",
    "dozers_quartiles = area_dz.quantile([0.25,0.5,0.75])\n",
    "dozers_lowerq = dozers_quartiles[0.25]\n",
    "dozers_upperq = dozers_quartiles[0.75]\n",
    "dozers_mean = area_dz.mean()\n",
    "dozers_iqr = dozers_upperq-dozers_lowerq    \n",
    "dozers_lower_bound = dozers_lowerq - (1.5*dozers_iqr)\n",
    "dozers_upper_bound = dozers_upperq + (1.5*dozers_iqr)\n",
    "\n",
    "# Determine outliers using upper and lower bounds\n",
    "dozers_outliers = area_dz.loc[(area_dz < dozers_lower_bound) | (area_dz > dozers_upper_bound)]\n",
    "\n",
    "# Print out the result\n",
    "print(f'Area burned outliers based on dozers involved')\n",
    "print(f\"Final burned area (arces) below {round(dozers_lower_bound,2)} could be outliers.\")\n",
    "print(f\"Final burned area (arces) above {round(dozers_upper_bound,2)} could be outliers.\")\n",
    "print(f\"Average burned area is: {round(dozers_mean,2)}\")\n",
    "print(f\"Number of outliers is: {dozers_outliers.count()}\")"
   ]
  },
  {
   "cell_type": "code",
   "execution_count": 11,
   "metadata": {},
   "outputs": [
    {
     "name": "stdout",
     "output_type": "stream",
     "text": [
      "The correlation between burned area (acres) and number of dozers is 0.24\n",
      "The r-squared is: 0.06\n"
     ]
    },
    {
     "data": {
      "image/png": "[encoded data removed]",
      "text/plain": [
       "<Figure size 432x288 with 1 Axes>"
      ]
     },
     "metadata": {
      "needs_background": "light"
     },
     "output_type": "display_data"
    }
   ],
   "source": [
    "# Define x, y values\n",
    "dozers_x_values = area_dz.drop(dozers_outliers.index)\n",
    "dozers_y_values = dozers.drop(dozers_outliers.index)\n",
    "\n",
    "# Calculate the correlation\n",
    "dozers_correlation = round(st.pearsonr(dozers_x_values, dozers_y_values)[0],2)\n",
    "print(f\"The correlation between burned area (acres) and number of dozers is {dozers_correlation}\")\n",
    "\n",
    "# Calculate linear regression values\n",
    "(dozers_slope, dozers_intercept, dozers_rvalue, dozers_pvalue, dozers_stderr) = st.linregress(dozers_x_values, \n",
    "                                                                                                   dozers_y_values)\n",
    "\n",
    "# Calculate r-squared\n",
    "dozers_r_squared = round(dozers_rvalue**2,2)\n",
    "print(f\"The r-squared is: {dozers_r_squared}\")\n",
    "\n",
    "# y = mx + b\n",
    "dozers_regress_values = dozers_x_values * dozers_slope + dozers_intercept\n",
    "dozers_line_eq = \"y = \" + str(round(dozers_slope,6)) + \"x + \" + str(round(dozers_intercept,2))\n",
    "\n",
    "# Gernerate scatter chart with liner regression line, equation of line, r-squared value\n",
    "plt.scatter(dozers_x_values, dozers_y_values, edgecolors='black')\n",
    "plt.plot(dozers_x_values, dozers_regress_values, color='r', alpha=0.7)\n",
    "\n",
    "# Plot the Annotation in the graph \n",
    "plt.annotate(dozers_line_eq,(4000,15), fontsize=11, color=\"red\")\n",
    "plt.annotate(f'r-squared = {dozers_r_squared}', (4000,13), fontsize=11, color=\"red\")\n",
    "\n",
    "# Define title and x/y labels\n",
    "plt.title('Acres Burned vs Dozers', fontweight='bold')\n",
    "plt.xlabel('Burned Area (Acres)', fontweight='bold')\n",
    "plt.ylabel('Number of Dozers', fontweight='bold')\n",
    "\n",
    "# Save box plot graph to Images folder\n",
    "plt.savefig('../Images/sized_dozers.png')\n",
    "\n",
    "# Present the box plot chart\n",
    "plt.show()\n",
    "\n",
    "# To close pyplot\n",
    "plt.close()"
   ]
  },
  {
   "cell_type": "markdown",
   "metadata": {},
   "source": [
    "#### Resources: Engines"
   ]
  },
  {
   "cell_type": "code",
   "execution_count": 12,
   "metadata": {},
   "outputs": [
    {
     "name": "stdout",
     "output_type": "stream",
     "text": [
      "Area burned outliers based on engine involved\n",
      "Final burned area (arces) below -3533.25 could be outliers.\n",
      "Final burned area (arces) above 6116.75 could be outliers.\n",
      "Average burned area is: 5882.66\n",
      "Number of outliers is: 25\n"
     ]
    }
   ],
   "source": [
    "#Discover wheather engines has relation to area burned\n",
    "engines = eng_df['Engines']\n",
    "area_en = eng_df['AcresBurned']\n",
    "\n",
    "# Calculate the IQR and quantitatively\n",
    "eng_quartiles = area_en.quantile([0.25,0.5,0.75])\n",
    "eng_lowerq = eng_quartiles[0.25]\n",
    "eng_upperq = eng_quartiles[0.75]\n",
    "eng_mean = area_en.mean()\n",
    "eng_iqr = eng_upperq-eng_lowerq    \n",
    "eng_lower_bound = eng_lowerq - (1.5*eng_iqr)\n",
    "eng_upper_bound = eng_upperq + (1.5*eng_iqr)\n",
    "\n",
    "# Determine outliers using upper and lower bounds\n",
    "eng_outliers = area_en.loc[(area_en < eng_lower_bound) | (area_en > eng_upper_bound)]\n",
    "\n",
    "# Print out the result\n",
    "print(f'Area burned outliers based on engine involved')\n",
    "print(f\"Final burned area (arces) below {round(eng_lower_bound,2)} could be outliers.\")\n",
    "print(f\"Final burned area (arces) above {round(eng_upper_bound,2)} could be outliers.\")\n",
    "print(f\"Average burned area is: {round(eng_mean,2)}\")\n",
    "print(f\"Number of outliers is: {eng_outliers.count()}\")"
   ]
  },
  {
   "cell_type": "code",
   "execution_count": 13,
   "metadata": {},
   "outputs": [
    {
     "name": "stdout",
     "output_type": "stream",
     "text": [
      "The correlation between burned area (acres) and number of eng is 0.31\n",
      "The r-squared is: 0.09\n"
     ]
    },
    {
     "data": {
      "image/png": "[encoded data removed]",
      "text/plain": [
       "<Figure size 432x288 with 1 Axes>"
      ]
     },
     "metadata": {
      "needs_background": "light"
     },
     "output_type": "display_data"
    }
   ],
   "source": [
    "# Define x, y values\n",
    "eng_x_values = area_en.drop(eng_outliers.index)\n",
    "eng_y_values = engines.drop(eng_outliers.index)\n",
    "\n",
    "# Calculate the correlation\n",
    "eng_correlation = round(st.pearsonr(eng_x_values, eng_y_values)[0],2)\n",
    "print(f\"The correlation between burned area (acres) and number of eng is {eng_correlation}\")\n",
    "\n",
    "# Calculate linear regression values\n",
    "(eng_slope, eng_intercept, eng_rvalue, eng_pvalue, eng_stderr) = st.linregress(eng_x_values, eng_y_values)\n",
    "\n",
    "# Calculate r-squared\n",
    "eng_r_squared = round(eng_rvalue**2,2)\n",
    "print(f\"The r-squared is: {eng_r_squared}\")\n",
    "\n",
    "# y = mx + b\n",
    "eng_regress_values = eng_x_values * eng_slope + eng_intercept\n",
    "eng_line_eq = \"y = \" + str(round(eng_slope,6)) + \"x + \" + str(round(eng_intercept,2))\n",
    "\n",
    "# Gernerate scatter chart with liner regression line, equation of line, r-squared value\n",
    "plt.scatter(eng_x_values, eng_y_values, edgecolors='black')\n",
    "plt.plot(eng_x_values, eng_regress_values, color='r', alpha=0.7)\n",
    "\n",
    "# Plot the Annotation in the graph \n",
    "plt.annotate(eng_line_eq,(3500,18), fontsize=11, color=\"red\")\n",
    "plt.annotate(f'r-squared = {eng_r_squared}', (3500,13), fontsize=11, color=\"red\")\n",
    "\n",
    "# Define title and x/y labels\n",
    "plt.title('Acres Burned vs Engines', fontweight='bold')\n",
    "plt.xlabel('Burned Area (Acres)', fontweight='bold')\n",
    "plt.ylabel('Number of Engines', fontweight='bold')\n",
    "\n",
    "# Save box plot graph to Images folder\n",
    "plt.savefig('../Images/sized_eng.png')\n",
    "\n",
    "# Present the box plot chart\n",
    "plt.show()\n",
    "\n",
    "# To close pyplot\n",
    "plt.close()"
   ]
  },
  {
   "cell_type": "markdown",
   "metadata": {},
   "source": [
    "#### Resources: Water Tenders"
   ]
  },
  {
   "cell_type": "code",
   "execution_count": 14,
   "metadata": {},
   "outputs": [
    {
     "name": "stdout",
     "output_type": "stream",
     "text": [
      "Area burned outliers based on Water Tenders involved\n",
      "Final burned area (arces) below -3844.75 could be outliers.\n",
      "Final burned area (arces) above 6659.25 could be outliers.\n",
      "Average burned area is: 5882.66\n",
      "Number of outliers is: 21\n"
     ]
    }
   ],
   "source": [
    "#Discover wheather water tenders has relation to area burned\n",
    "water = water_df['WaterTenders']\n",
    "area_wt = water_df['AcresBurned']\n",
    "\n",
    "# Calculate the IQR and quantitatively\n",
    "water_quartiles = area_wt.quantile([0.25,0.5,0.75])\n",
    "water_lowerq = water_quartiles[0.25]\n",
    "water_upperq = water_quartiles[0.75]\n",
    "water_mean = area_en.mean()\n",
    "water_iqr = water_upperq-water_lowerq    \n",
    "water_lower_bound = water_lowerq - (1.5*water_iqr)\n",
    "water_upper_bound = water_upperq + (1.5*water_iqr)\n",
    "\n",
    "# Determine outliers using upper and lower bounds\n",
    "water_outliers = area_wt.loc[(area_wt < water_lower_bound) | (area_wt > water_upper_bound)]\n",
    "\n",
    "# Print out the result\n",
    "print(f'Area burned outliers based on Water Tenders involved')\n",
    "print(f\"Final burned area (arces) below {round(water_lower_bound,2)} could be outliers.\")\n",
    "print(f\"Final burned area (arces) above {round(water_upper_bound,2)} could be outliers.\")\n",
    "print(f\"Average burned area is: {round(water_mean,2)}\")\n",
    "print(f\"Number of outliers is: {water_outliers.count()}\")"
   ]
  },
  {
   "cell_type": "code",
   "execution_count": 15,
   "metadata": {},
   "outputs": [
    {
     "name": "stdout",
     "output_type": "stream",
     "text": [
      "The correlation between burned area (acres) and number of water is 0.1\n",
      "The r-squared is: 0.01\n"
     ]
    },
    {
     "data": {
      "image/png": "[encoded data removed]",
      "text/plain": [
       "<Figure size 432x288 with 1 Axes>"
      ]
     },
     "metadata": {
      "needs_background": "light"
     },
     "output_type": "display_data"
    }
   ],
   "source": [
    "# Define x, y values\n",
    "water_x_values = area_wt.drop(water_outliers.index)\n",
    "water_y_values = water.drop(water_outliers.index)\n",
    "\n",
    "# Calculate the correlation\n",
    "water_correlation = round(st.pearsonr(water_x_values, water_y_values)[0],2)\n",
    "print(f\"The correlation between burned area (acres) and number of water is {water_correlation}\")\n",
    "\n",
    "# Calculate linear regression values\n",
    "(water_slope, water_intercept, water_rvalue, water_pvalue, water_stderr) = st.linregress(water_x_values, water_y_values)\n",
    "\n",
    "# Calculate r-squared\n",
    "water_r_squared = round(water_rvalue**2,2)\n",
    "print(f\"The r-squared is: {water_r_squared}\")\n",
    "\n",
    "# y = mx + b\n",
    "water_regress_values = water_x_values * water_slope + water_intercept\n",
    "water_line_eq = \"y = \" + str(round(water_slope,5)) + \"x + \" + str(round(water_intercept,2))\n",
    "\n",
    "# Gernerate scatter chart with liner regression line, equation of line, r-squared value\n",
    "plt.scatter(water_x_values, water_y_values, edgecolors='black')\n",
    "plt.plot(water_x_values, water_regress_values, color='r', alpha=0.7)\n",
    "\n",
    "# Plot the Annotation in the graph \n",
    "plt.annotate(water_line_eq,(3500,18), fontsize=11, color=\"red\")\n",
    "plt.annotate(f'r-squared = {water_r_squared}', (3500,16), fontsize=11, color=\"red\")\n",
    "\n",
    "# Define title and x/y labels\n",
    "plt.title('Acres Burned vs Water Tenders', fontweight='bold')\n",
    "plt.xlabel('Burned Area (Acres)', fontweight='bold')\n",
    "plt.ylabel('Number of Water Tenders', fontweight='bold')\n",
    "\n",
    "# Save box plot graph to Images folder\n",
    "plt.savefig('../Images/sized_water.png')\n",
    "\n",
    "# Present the box plot chart\n",
    "plt.show()\n",
    "\n",
    "# To close pyplot\n",
    "plt.close()"
   ]
  },
  {
   "cell_type": "code",
   "execution_count": null,
   "metadata": {},
   "outputs": [],
   "source": []
  }
 ],
 "metadata": {
  "kernelspec": {
   "display_name": "Python [conda env:PythonData] *",
   "language": "python",
   "name": "conda-env-PythonData-py"
  },
  "language_info": {
   "codemirror_mode": {
    "name": "ipython",
    "version": 3
   },
   "file_extension": ".py",
   "mimetype": "text/x-python",
   "name": "python",
   "nbconvert_exporter": "python",
   "pygments_lexer": "ipython3",
   "version": "3.6.10"
  }
 },
 "nbformat": 4,
 "nbformat_minor": 4
}
